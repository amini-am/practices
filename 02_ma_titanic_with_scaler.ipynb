{
 "cells": [
  {
   "cell_type": "code",
   "execution_count": 23,
   "metadata": {},
   "outputs": [],
   "source": [
    "import pandas as pd\n",
    "import numpy as np\n",
    "from sklearn import preprocessing\n",
    "\n",
    "from sklearn.neighbors import KNeighborsClassifier\n",
    "from sklearn import metrics\n",
    "\n",
    "from sklearn.model_selection import train_test_split\n",
    "from sklearn.preprocessing import MinMaxScaler"
   ]
  },
  {
   "cell_type": "code",
   "execution_count": 45,
   "metadata": {},
   "outputs": [
    {
     "data": {
      "text/plain": [
       "0.8269720101781171"
      ]
     },
     "execution_count": 45,
     "metadata": {},
     "output_type": "execute_result"
    }
   ],
   "source": [
    "ds_path = '../datasets/titanic/'\n",
    "\n",
    "def readData(ds_path):\n",
    "    tr_set = pd.read_csv(ds_path + 'train.csv')\n",
    "    te_set = pd.read_csv(ds_path + 'test.csv')\n",
    "    y_te = pd.read_csv(ds_path + 'gender_submission.csv')['Survived'].values\n",
    "    te_set['Survived'] = y_te\n",
    "    df = pd.concat([tr_set, te_set])\n",
    "    return df\n",
    "\n",
    "def splitData(df, te_size, rnd_state):\n",
    "    tr_set, te_set = train_test_split(df, test_size = te_size, random_state = rnd_state)\n",
    "    return tr_set, te_set,\n",
    "\n",
    "\n",
    "def preProcessData(train_set, test_set, with_min_max = False):\n",
    "    tr_set = train_set.copy()\n",
    "    te_set = test_set.copy()\n",
    "    \n",
    "    drop_columns = ['PassengerId', 'Name', 'SibSp', 'Ticket', 'Cabin', 'Parch', 'Fare', 'Embarked']\n",
    "\n",
    "    tr_set.drop(drop_columns, axis=1, inplace=True)\n",
    "    te_set.drop(drop_columns, axis=1, inplace=True)\n",
    "\n",
    "    tr_set['Age'] = tr_set['Age'].fillna(29)\n",
    "    te_set['Age'] = te_set['Age'].fillna(29) \n",
    "    sx = {'male': 0, 'female':10}\n",
    "\n",
    "    tr_set['Sex'] = tr_set['Sex'].apply(lambda x: sx[x])\n",
    "    te_set['Sex'] = te_set['Sex'].apply(lambda x: sx[x])\n",
    "\n",
    "    X = tr_set.drop(['Survived'], axis=1).values\n",
    "    y = tr_set['Survived'].values        \n",
    "    \n",
    "    te_y = te_set['Survived'].values\n",
    "    te_set.drop('Survived', axis=1, inplace=True)\n",
    "    te_X = te_set.values\n",
    "    \n",
    "    if with_min_max:\n",
    "        scaler = MinMaxScaler()\n",
    "        scaler.fit(X)\n",
    "        X = scaler.transform(X)\n",
    "        te_X = scaler.transform(te_X)\n",
    "    \n",
    "    return X, y, te_X, te_y\n",
    "\n",
    "    "
   ]
  },
  {
   "cell_type": "code",
   "execution_count": 47,
   "metadata": {},
   "outputs": [
    {
     "name": "stdout",
     "output_type": "stream",
     "text": [
      "0.8386768447837148\n",
      "0.8424936386768447\n"
     ]
    }
   ],
   "source": [
    "df = readData(ds_path)\n",
    "\n",
    "results_ordinary = []\n",
    "for i in range(0, 5):\n",
    "    tr_set, te_set = splitData(df, .3, i)\n",
    "    X, y, te_X, te_y = preProcessData(tr_set, te_set)\n",
    "\n",
    "    classifier = KNeighborsClassifier(n_neighbors=4)\n",
    "    classifier.fit(X, y)\n",
    "\n",
    "    y_p = classifier.predict(te_X)\n",
    "\n",
    "    results_ordinary.append(metrics.accuracy_score(te_y, y_p))\n",
    "    \n",
    "results_scaler = []\n",
    "for i in range(0, 10):\n",
    "    tr_set, te_set = splitData(df, .3, i)\n",
    "    X, y, te_X, te_y = preProcessData(tr_set, te_set, True)\n",
    "\n",
    "    classifier = KNeighborsClassifier(n_neighbors=4)\n",
    "    classifier.fit(X, y)\n",
    "\n",
    "    y_p = classifier.predict(te_X)\n",
    "\n",
    "    results_scaler.append(metrics.accuracy_score(te_y, y_p))    \n",
    "    \n",
    "print(np.mean(results_ordinary))\n",
    "print(np.mean(results_scaler))"
   ]
  },
  {
   "cell_type": "code",
   "execution_count": null,
   "metadata": {},
   "outputs": [],
   "source": []
  }
 ],
 "metadata": {
  "kernelspec": {
   "display_name": "Python 3",
   "language": "python",
   "name": "python3"
  },
  "language_info": {
   "codemirror_mode": {
    "name": "ipython",
    "version": 3
   },
   "file_extension": ".py",
   "mimetype": "text/x-python",
   "name": "python",
   "nbconvert_exporter": "python",
   "pygments_lexer": "ipython3",
   "version": "3.7.7"
  }
 },
 "nbformat": 4,
 "nbformat_minor": 4
}
