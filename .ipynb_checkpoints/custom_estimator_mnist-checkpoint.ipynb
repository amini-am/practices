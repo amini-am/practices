{
 "cells": [
  {
   "cell_type": "code",
   "execution_count": 1,
   "metadata": {},
   "outputs": [],
   "source": [
    "from sklearn.base import BaseEstimator\n",
    "\n",
    "class MyEstimator (BaseEstimator):\n",
    "    def __init__(self, model, model_params={}):\n",
    "        self.models = np.array([])\n",
    "        for i in range(10):\n",
    "            self.models = np.append(self.models, [model(**model_params)])\n",
    "        \n",
    "    def fit(self, X, y):\n",
    "        ys = np.array([], dtype=bool)\n",
    "        for i in range(10):\n",
    "            ys = np.append(ys, [True if a == i else False for a in y ])\n",
    "        ys = ys.reshape(-1, 10, order='F')\n",
    "        \n",
    "        for i in range(10):\n",
    "            self.models[i].fit(X, ys[:, i])            \n",
    "            \n",
    "    def predict(self, X):\n",
    "        ys = np.array([], dtype=bool)\n",
    "        for i in range(10):\n",
    "            ys = np.append(ys, self.models[i].predict(X))\n",
    "        \n",
    "        return ys.reshape(-1, 10, order='F')"
   ]
  },
  {
   "cell_type": "code",
   "execution_count": null,
   "metadata": {},
   "outputs": [],
   "source": []
  }
 ],
 "metadata": {
  "kernelspec": {
   "display_name": "Python 3",
   "language": "python",
   "name": "python3"
  },
  "language_info": {
   "codemirror_mode": {
    "name": "ipython",
    "version": 3
   },
   "file_extension": ".py",
   "mimetype": "text/x-python",
   "name": "python",
   "nbconvert_exporter": "python",
   "pygments_lexer": "ipython3",
   "version": "3.8.2"
  }
 },
 "nbformat": 4,
 "nbformat_minor": 4
}
