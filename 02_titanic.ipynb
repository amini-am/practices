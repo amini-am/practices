{
 "cells": [
  {
   "cell_type": "code",
   "execution_count": 117,
   "metadata": {},
   "outputs": [],
   "source": [
    "import pandas as pd\n",
    "import numpy as np\n",
    "from sklearn import preprocessing\n",
    "\n",
    "from sklearn.neighbors import KNeighborsClassifier\n",
    "from sklearn import metrics"
   ]
  },
  {
   "cell_type": "code",
   "execution_count": 134,
   "metadata": {},
   "outputs": [],
   "source": [
    "ds_path = '../datasets/titanic/'\n",
    "\n",
    "tr_set = pd.read_csv(ds_path + 'train.csv')\n",
    "te_set = pd.read_csv(ds_path + 'test.csv')\n",
    "y_te = pd.read_csv(ds_path + 'gender_submission.csv')['Survived'].values\n",
    "\n",
    "drop_columns = ['PassengerId', 'Name', 'SibSp', 'Ticket', 'Cabin', 'Parch', 'Fare', 'Embarked']\n",
    "\n",
    "tr_set.drop(drop_columns, axis=1, inplace=True)\n",
    "te_set.drop(drop_columns, axis=1, inplace=True)\n",
    "\n",
    "tr_set['Age'] = tr_set['Age'].fillna(29)\n",
    "te_set['Age'] = te_set['Age'].fillna(29) \n",
    "\n",
    "emb = {'S':1, 'C':2, 'Q':3, 0:0}\n",
    "sx = {'male': 0, 'female':1}\n",
    "\n",
    "# tr_set['Embarked'] = tr_set['Embarked'].fillna(0)\n",
    "# te_set['Embarked'] = tr_set['Embarked'].fillna(0)\n",
    "# tr_set['Embarked'] = tr_set['Embarked'].apply(lambda x: emb[x])\n",
    "# te_set['Embarked'] = te_set['Embarked'].apply(lambda x: emb[x])\n",
    "\n",
    "tr_set['Sex'] = tr_set['Sex'].apply(lambda x: sx[x])\n",
    "te_set['Sex'] = te_set['Sex'].apply(lambda x: sx[x])\n",
    "\n",
    "#te_set['Fare'] = te_set['Fare'].fillna(35.6)"
   ]
  },
  {
   "cell_type": "code",
   "execution_count": 159,
   "metadata": {},
   "outputs": [
    {
     "data": {
      "text/plain": [
       "KNeighborsClassifier(n_neighbors=4)"
      ]
     },
     "execution_count": 159,
     "metadata": {},
     "output_type": "execute_result"
    }
   ],
   "source": [
    "X = tr_set.drop(['Survived'], axis=1).values\n",
    "y = tr_set['Survived'].values\n",
    "\n",
    "classifier = KNeighborsClassifier(n_neighbors=4)\n",
    "classifier.fit(X, y)"
   ]
  },
  {
   "cell_type": "code",
   "execution_count": 160,
   "metadata": {},
   "outputs": [],
   "source": [
    "y_p = classifier.predict(te_set.values)"
   ]
  },
  {
   "cell_type": "code",
   "execution_count": 161,
   "metadata": {},
   "outputs": [],
   "source": [
    "acc = metrics.accuracy_score(y_te, y_p)"
   ]
  },
  {
   "cell_type": "code",
   "execution_count": 162,
   "metadata": {},
   "outputs": [
    {
     "data": {
      "text/plain": [
       "0.8708133971291866"
      ]
     },
     "execution_count": 162,
     "metadata": {},
     "output_type": "execute_result"
    }
   ],
   "source": [
    "acc"
   ]
  },
  {
   "cell_type": "code",
   "execution_count": null,
   "metadata": {},
   "outputs": [],
   "source": []
  }
 ],
 "metadata": {
  "kernelspec": {
   "display_name": "Python 3",
   "language": "python",
   "name": "python3"
  },
  "language_info": {
   "codemirror_mode": {
    "name": "ipython",
    "version": 3
   },
   "file_extension": ".py",
   "mimetype": "text/x-python",
   "name": "python",
   "nbconvert_exporter": "python",
   "pygments_lexer": "ipython3",
   "version": "3.7.7"
  }
 },
 "nbformat": 4,
 "nbformat_minor": 4
}
